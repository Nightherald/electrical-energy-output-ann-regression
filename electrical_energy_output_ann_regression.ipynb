{
  "nbformat": 4,
  "nbformat_minor": 0,
  "metadata": {
    "colab": {
      "name": "Artificial_Neural_Network.ipynb",
      "provenance": [],
      "collapsed_sections": [],
      "toc_visible": true
    },
    "kernelspec": {
      "name": "python3",
      "display_name": "Python 3"
    }
  },
  "cells": [
    {
      "cell_type": "code",
      "metadata": {
        "colab": {
          "base_uri": "https://localhost:8080/"
        },
        "id": "Qw6nDC81_1W2",
        "outputId": "b226b2de-d55b-41ab-9310-a531f4ce9d25"
      },
      "source": [
        "from google.colab import drive\n",
        "drive.mount('/content/drive')"
      ],
      "execution_count": 1,
      "outputs": [
        {
          "output_type": "stream",
          "text": [
            "Drive already mounted at /content/drive; to attempt to forcibly remount, call drive.mount(\"/content/drive\", force_remount=True).\n"
          ],
          "name": "stdout"
        }
      ]
    },
    {
      "cell_type": "markdown",
      "metadata": {
        "id": "3cbb7fRy-eyr"
      },
      "source": [
        "# Artificial Neural Network"
      ]
    },
    {
      "cell_type": "markdown",
      "metadata": {
        "id": "8sNDnxE2-pwE"
      },
      "source": [
        "### Importing the libraries"
      ]
    },
    {
      "cell_type": "code",
      "metadata": {
        "id": "lxChR1Rk-umf"
      },
      "source": [
        "import numpy as np\n",
        "import pandas as pd\n",
        "import tensorflow as tf"
      ],
      "execution_count": 2,
      "outputs": []
    },
    {
      "cell_type": "code",
      "metadata": {
        "id": "uBTqR3nacj0e",
        "colab": {
          "base_uri": "https://localhost:8080/",
          "height": 35
        },
        "outputId": "8aa343ec-256b-453a-835a-3964ff061e38"
      },
      "source": [
        "tf.__version__"
      ],
      "execution_count": 3,
      "outputs": [
        {
          "output_type": "execute_result",
          "data": {
            "application/vnd.google.colaboratory.intrinsic+json": {
              "type": "string"
            },
            "text/plain": [
              "'2.4.1'"
            ]
          },
          "metadata": {
            "tags": []
          },
          "execution_count": 3
        }
      ]
    },
    {
      "cell_type": "markdown",
      "metadata": {
        "id": "AG3FQEch-yuA"
      },
      "source": [
        "## Data Preprocessing"
      ]
    },
    {
      "cell_type": "markdown",
      "metadata": {
        "id": "-4zq8Mza_D9O"
      },
      "source": [
        "### Importing the dataset"
      ]
    },
    {
      "cell_type": "code",
      "metadata": {
        "id": "B9CV13Co_HHM"
      },
      "source": [
        "# insert your path\n",
        "dataset = pd.read_excel('/Folds5x2_pp.xlsx')"
      ],
      "execution_count": 4,
      "outputs": []
    },
    {
      "cell_type": "code",
      "metadata": {
        "colab": {
          "base_uri": "https://localhost:8080/"
        },
        "id": "DnyVbDqKAlGL",
        "outputId": "e7ad0fcd-49fc-4e9f-cf55-59ada7ff0711"
      },
      "source": [
        "# set of independent variables, a matrix of features\n",
        "X = dataset.iloc[:, :-1].values\n",
        "print(f'X has {X.shape[0]} rows and {X.shape[1]} columns.')\n",
        "print()\n",
        "print(X[:5])"
      ],
      "execution_count": 5,
      "outputs": [
        {
          "output_type": "stream",
          "text": [
            "X has 9568 rows and 4 columns.\n",
            "\n",
            "[[  14.96   41.76 1024.07   73.17]\n",
            " [  25.18   62.96 1020.04   59.08]\n",
            " [   5.11   39.4  1012.16   92.14]\n",
            " [  20.86   57.32 1010.24   76.64]\n",
            " [  10.82   37.5  1009.23   96.62]]\n"
          ],
          "name": "stdout"
        }
      ]
    },
    {
      "cell_type": "code",
      "metadata": {
        "colab": {
          "base_uri": "https://localhost:8080/"
        },
        "id": "lEg92EDqAtRe",
        "outputId": "67d6f3d0-c8b3-49c3-a68f-eed90843b32d"
      },
      "source": [
        "# set of dependent variable, one specific column/vector\n",
        "y = dataset.iloc[:, -1].values\n",
        "print(f'y has {y.shape[0]} elements.')\n",
        "print(y[:5])"
      ],
      "execution_count": 6,
      "outputs": [
        {
          "output_type": "stream",
          "text": [
            "y has 9568 elements.\n",
            "[463.26 444.37 488.56 446.48 473.9 ]\n"
          ],
          "name": "stdout"
        }
      ]
    },
    {
      "cell_type": "markdown",
      "metadata": {
        "id": "VC6omXel_Up0"
      },
      "source": [
        "### Splitting the dataset into the Training set and Test set"
      ]
    },
    {
      "cell_type": "code",
      "metadata": {
        "id": "L5edeb2r_agx",
        "colab": {
          "base_uri": "https://localhost:8080/"
        },
        "outputId": "e74907f9-c3d5-493d-c734-71b0b91bab73"
      },
      "source": [
        "from sklearn.model_selection import train_test_split\n",
        "\n",
        "X_train, X_test, y_train, y_test = train_test_split(X, y, \n",
        "                                                    test_size = 0.2, \n",
        "                                                    random_state = 0\n",
        "                                                    )\n",
        "\n",
        "print(f'X_train has {X_train.shape[0]} rows and {X_train.shape[1]} columns.')\n",
        "print(f'X_test has {X_test.shape[0]} rows and {X_test.shape[1]} columns.')\n",
        "print()\n",
        "print(f'y_train has {y_train.shape[0]} elements.')\n",
        "print(f'y_test has {y_test.shape[0]} elements.')"
      ],
      "execution_count": 7,
      "outputs": [
        {
          "output_type": "stream",
          "text": [
            "X_train has 7654 rows and 4 columns.\n",
            "X_test has 1914 rows and 4 columns.\n",
            "\n",
            "y_train has 7654 elements.\n",
            "y_test has 1914 elements.\n"
          ],
          "name": "stdout"
        }
      ]
    },
    {
      "cell_type": "markdown",
      "metadata": {
        "id": "_mSLlAT9_eyI"
      },
      "source": [
        "## Building the ANN"
      ]
    },
    {
      "cell_type": "markdown",
      "metadata": {
        "id": "CsBULd_f_wLY"
      },
      "source": [
        "### Initializing the ANN as a sequence of layers"
      ]
    },
    {
      "cell_type": "code",
      "metadata": {
        "id": "J6Hd97Ls__Nz"
      },
      "source": [
        "ann = tf.keras.models.Sequential()"
      ],
      "execution_count": 8,
      "outputs": []
    },
    {
      "cell_type": "markdown",
      "metadata": {
        "id": "iitAFJS_ABUn"
      },
      "source": [
        "### Adding the input layer and the first hidden layer"
      ]
    },
    {
      "cell_type": "code",
      "metadata": {
        "id": "ksO_Vv40AHix"
      },
      "source": [
        "ann.add(tf.keras.layers.Dense(units=6, activation='relu'))"
      ],
      "execution_count": 9,
      "outputs": []
    },
    {
      "cell_type": "markdown",
      "metadata": {
        "id": "-lb4kK_wAKbs"
      },
      "source": [
        "### Adding the second hidden layer"
      ]
    },
    {
      "cell_type": "code",
      "metadata": {
        "id": "c2357OqEAQOQ"
      },
      "source": [
        "ann.add(tf.keras.layers.Dense(units=6, activation='relu'))"
      ],
      "execution_count": 10,
      "outputs": []
    },
    {
      "cell_type": "markdown",
      "metadata": {
        "id": "jwMOmKb3AdBY"
      },
      "source": [
        "### Adding the output layer"
      ]
    },
    {
      "cell_type": "code",
      "metadata": {
        "id": "YFATpzsUAkLL"
      },
      "source": [
        "# usually we do not neet an activation function on the output layer for Regression\n",
        "ann.add(tf.keras.layers.Dense(units=1))"
      ],
      "execution_count": 11,
      "outputs": []
    },
    {
      "cell_type": "markdown",
      "metadata": {
        "id": "fq7e4fF6A1yy"
      },
      "source": [
        "## Training the ANN"
      ]
    },
    {
      "cell_type": "markdown",
      "metadata": {
        "id": "qDeylAs2An25"
      },
      "source": [
        "### Compiling the ANN"
      ]
    },
    {
      "cell_type": "code",
      "metadata": {
        "id": "pesgbWlCAtB4"
      },
      "source": [
        "# for Regression, use MSE \n",
        "ann.compile(optimizer = 'adam', loss = 'mean_squared_error')"
      ],
      "execution_count": 12,
      "outputs": []
    },
    {
      "cell_type": "markdown",
      "metadata": {
        "id": "YjVuiybYOo7r"
      },
      "source": [
        "### Training the ANN model on the Training set"
      ]
    },
    {
      "cell_type": "code",
      "metadata": {
        "id": "c_vV-tiiA5zn",
        "colab": {
          "base_uri": "https://localhost:8080/"
        },
        "outputId": "fe101cb6-b9e9-4cff-e0dc-b79331c0fd46"
      },
      "source": [
        "ann.fit(X_train, y_train, batch_size = 32, epochs = 100)"
      ],
      "execution_count": 13,
      "outputs": [
        {
          "output_type": "stream",
          "text": [
            "Epoch 1/100\n",
            "240/240 [==============================] - 1s 2ms/step - loss: 363.2338\n",
            "Epoch 2/100\n",
            "240/240 [==============================] - 0s 1ms/step - loss: 68.6842\n",
            "Epoch 3/100\n",
            "240/240 [==============================] - 0s 1ms/step - loss: 35.2396\n",
            "Epoch 4/100\n",
            "240/240 [==============================] - 0s 1ms/step - loss: 29.9616\n",
            "Epoch 5/100\n",
            "240/240 [==============================] - 0s 1ms/step - loss: 30.5190\n",
            "Epoch 6/100\n",
            "240/240 [==============================] - 0s 1ms/step - loss: 28.2658\n",
            "Epoch 7/100\n",
            "240/240 [==============================] - 0s 1ms/step - loss: 27.4835\n",
            "Epoch 8/100\n",
            "240/240 [==============================] - 0s 1ms/step - loss: 26.8521\n",
            "Epoch 9/100\n",
            "240/240 [==============================] - 0s 1ms/step - loss: 27.1114\n",
            "Epoch 10/100\n",
            "240/240 [==============================] - 0s 1ms/step - loss: 28.7006\n",
            "Epoch 11/100\n",
            "240/240 [==============================] - 0s 1ms/step - loss: 26.2777\n",
            "Epoch 12/100\n",
            "240/240 [==============================] - 0s 1ms/step - loss: 26.0478\n",
            "Epoch 13/100\n",
            "240/240 [==============================] - 0s 1ms/step - loss: 25.9008\n",
            "Epoch 14/100\n",
            "240/240 [==============================] - 0s 1ms/step - loss: 26.1078\n",
            "Epoch 15/100\n",
            "240/240 [==============================] - 0s 1ms/step - loss: 24.7270\n",
            "Epoch 16/100\n",
            "240/240 [==============================] - 0s 1ms/step - loss: 26.0089\n",
            "Epoch 17/100\n",
            "240/240 [==============================] - 0s 1ms/step - loss: 25.1136\n",
            "Epoch 18/100\n",
            "240/240 [==============================] - 0s 1ms/step - loss: 24.9048\n",
            "Epoch 19/100\n",
            "240/240 [==============================] - 0s 1ms/step - loss: 25.3915\n",
            "Epoch 20/100\n",
            "240/240 [==============================] - 0s 1ms/step - loss: 26.1049\n",
            "Epoch 21/100\n",
            "240/240 [==============================] - 0s 1ms/step - loss: 25.0370\n",
            "Epoch 22/100\n",
            "240/240 [==============================] - 0s 1ms/step - loss: 27.7484\n",
            "Epoch 23/100\n",
            "240/240 [==============================] - 0s 1ms/step - loss: 24.2055\n",
            "Epoch 24/100\n",
            "240/240 [==============================] - 0s 1ms/step - loss: 26.3206\n",
            "Epoch 25/100\n",
            "240/240 [==============================] - 0s 1ms/step - loss: 25.7295\n",
            "Epoch 26/100\n",
            "240/240 [==============================] - 0s 1ms/step - loss: 25.8874\n",
            "Epoch 27/100\n",
            "240/240 [==============================] - 0s 1ms/step - loss: 25.3161\n",
            "Epoch 28/100\n",
            "240/240 [==============================] - 0s 1ms/step - loss: 24.8565\n",
            "Epoch 29/100\n",
            "240/240 [==============================] - 0s 1ms/step - loss: 25.6660\n",
            "Epoch 30/100\n",
            "240/240 [==============================] - 0s 1ms/step - loss: 24.0038\n",
            "Epoch 31/100\n",
            "240/240 [==============================] - 0s 1ms/step - loss: 26.3755\n",
            "Epoch 32/100\n",
            "240/240 [==============================] - 0s 1ms/step - loss: 24.5495\n",
            "Epoch 33/100\n",
            "240/240 [==============================] - 0s 1ms/step - loss: 25.1778\n",
            "Epoch 34/100\n",
            "240/240 [==============================] - 0s 1ms/step - loss: 23.5133\n",
            "Epoch 35/100\n",
            "240/240 [==============================] - 0s 1ms/step - loss: 24.0398\n",
            "Epoch 36/100\n",
            "240/240 [==============================] - 0s 1ms/step - loss: 25.0815\n",
            "Epoch 37/100\n",
            "240/240 [==============================] - 0s 1ms/step - loss: 24.0283\n",
            "Epoch 38/100\n",
            "240/240 [==============================] - 0s 1ms/step - loss: 25.2590\n",
            "Epoch 39/100\n",
            "240/240 [==============================] - 0s 1ms/step - loss: 24.5837\n",
            "Epoch 40/100\n",
            "240/240 [==============================] - 0s 1ms/step - loss: 24.5547\n",
            "Epoch 41/100\n",
            "240/240 [==============================] - 0s 1ms/step - loss: 24.3476\n",
            "Epoch 42/100\n",
            "240/240 [==============================] - 0s 1ms/step - loss: 25.1542\n",
            "Epoch 43/100\n",
            "240/240 [==============================] - 0s 1ms/step - loss: 24.8753\n",
            "Epoch 44/100\n",
            "240/240 [==============================] - 0s 1ms/step - loss: 26.3477\n",
            "Epoch 45/100\n",
            "240/240 [==============================] - 0s 1ms/step - loss: 26.3642\n",
            "Epoch 46/100\n",
            "240/240 [==============================] - 0s 1ms/step - loss: 25.0374\n",
            "Epoch 47/100\n",
            "240/240 [==============================] - 0s 1ms/step - loss: 26.3600\n",
            "Epoch 48/100\n",
            "240/240 [==============================] - 0s 1ms/step - loss: 24.3423\n",
            "Epoch 49/100\n",
            "240/240 [==============================] - 0s 1ms/step - loss: 24.6230\n",
            "Epoch 50/100\n",
            "240/240 [==============================] - 0s 1ms/step - loss: 25.7723\n",
            "Epoch 51/100\n",
            "240/240 [==============================] - 0s 1ms/step - loss: 26.1431\n",
            "Epoch 52/100\n",
            "240/240 [==============================] - 0s 1ms/step - loss: 24.0793\n",
            "Epoch 53/100\n",
            "240/240 [==============================] - 0s 1ms/step - loss: 24.6780\n",
            "Epoch 54/100\n",
            "240/240 [==============================] - 0s 1ms/step - loss: 26.3341\n",
            "Epoch 55/100\n",
            "240/240 [==============================] - 0s 1ms/step - loss: 24.5991\n",
            "Epoch 56/100\n",
            "240/240 [==============================] - 0s 1ms/step - loss: 24.5222\n",
            "Epoch 57/100\n",
            "240/240 [==============================] - 0s 1ms/step - loss: 26.6547\n",
            "Epoch 58/100\n",
            "240/240 [==============================] - 0s 1ms/step - loss: 23.6686\n",
            "Epoch 59/100\n",
            "240/240 [==============================] - 0s 1ms/step - loss: 24.6211\n",
            "Epoch 60/100\n",
            "240/240 [==============================] - 0s 1ms/step - loss: 24.3869\n",
            "Epoch 61/100\n",
            "240/240 [==============================] - 0s 1ms/step - loss: 25.6670\n",
            "Epoch 62/100\n",
            "240/240 [==============================] - 0s 1ms/step - loss: 25.5287\n",
            "Epoch 63/100\n",
            "240/240 [==============================] - 0s 1ms/step - loss: 25.0925\n",
            "Epoch 64/100\n",
            "240/240 [==============================] - 0s 1ms/step - loss: 25.1359\n",
            "Epoch 65/100\n",
            "240/240 [==============================] - 0s 1ms/step - loss: 26.1432\n",
            "Epoch 66/100\n",
            "240/240 [==============================] - 0s 1ms/step - loss: 24.4508\n",
            "Epoch 67/100\n",
            "240/240 [==============================] - 0s 1ms/step - loss: 25.0863\n",
            "Epoch 68/100\n",
            "240/240 [==============================] - 0s 1ms/step - loss: 24.4146\n",
            "Epoch 69/100\n",
            "240/240 [==============================] - 0s 1ms/step - loss: 26.9188\n",
            "Epoch 70/100\n",
            "240/240 [==============================] - 0s 1ms/step - loss: 24.5071\n",
            "Epoch 71/100\n",
            "240/240 [==============================] - 0s 1ms/step - loss: 24.0947\n",
            "Epoch 72/100\n",
            "240/240 [==============================] - 0s 1ms/step - loss: 23.0424\n",
            "Epoch 73/100\n",
            "240/240 [==============================] - 0s 1ms/step - loss: 24.8955\n",
            "Epoch 74/100\n",
            "240/240 [==============================] - 0s 1ms/step - loss: 24.2501\n",
            "Epoch 75/100\n",
            "240/240 [==============================] - 0s 1ms/step - loss: 25.3735\n",
            "Epoch 76/100\n",
            "240/240 [==============================] - 0s 1ms/step - loss: 25.5435\n",
            "Epoch 77/100\n",
            "240/240 [==============================] - 0s 1ms/step - loss: 24.4734\n",
            "Epoch 78/100\n",
            "240/240 [==============================] - 0s 1ms/step - loss: 24.3905\n",
            "Epoch 79/100\n",
            "240/240 [==============================] - 0s 1ms/step - loss: 24.2446\n",
            "Epoch 80/100\n",
            "240/240 [==============================] - 0s 1ms/step - loss: 23.8654\n",
            "Epoch 81/100\n",
            "240/240 [==============================] - 0s 1ms/step - loss: 24.9229\n",
            "Epoch 82/100\n",
            "240/240 [==============================] - 0s 1ms/step - loss: 24.7935\n",
            "Epoch 83/100\n",
            "240/240 [==============================] - 0s 1ms/step - loss: 23.4132\n",
            "Epoch 84/100\n",
            "240/240 [==============================] - 0s 1ms/step - loss: 25.4350\n",
            "Epoch 85/100\n",
            "240/240 [==============================] - 0s 1ms/step - loss: 24.1955\n",
            "Epoch 86/100\n",
            "240/240 [==============================] - 0s 1ms/step - loss: 25.0624\n",
            "Epoch 87/100\n",
            "240/240 [==============================] - 0s 1ms/step - loss: 24.8273\n",
            "Epoch 88/100\n",
            "240/240 [==============================] - 0s 1ms/step - loss: 23.6304\n",
            "Epoch 89/100\n",
            "240/240 [==============================] - 0s 1ms/step - loss: 25.0758\n",
            "Epoch 90/100\n",
            "240/240 [==============================] - 0s 1ms/step - loss: 25.9516\n",
            "Epoch 91/100\n",
            "240/240 [==============================] - 0s 1ms/step - loss: 24.8381\n",
            "Epoch 92/100\n",
            "240/240 [==============================] - 0s 1ms/step - loss: 24.7392\n",
            "Epoch 93/100\n",
            "240/240 [==============================] - 0s 1ms/step - loss: 26.7854\n",
            "Epoch 94/100\n",
            "240/240 [==============================] - 0s 1ms/step - loss: 24.9857\n",
            "Epoch 95/100\n",
            "240/240 [==============================] - 0s 1ms/step - loss: 24.2459\n",
            "Epoch 96/100\n",
            "240/240 [==============================] - 0s 1ms/step - loss: 25.1162\n",
            "Epoch 97/100\n",
            "240/240 [==============================] - 0s 1ms/step - loss: 25.2186\n",
            "Epoch 98/100\n",
            "240/240 [==============================] - 0s 1ms/step - loss: 24.5521\n",
            "Epoch 99/100\n",
            "240/240 [==============================] - 0s 1ms/step - loss: 24.9518\n",
            "Epoch 100/100\n",
            "240/240 [==============================] - 0s 1ms/step - loss: 24.1198\n"
          ],
          "name": "stdout"
        },
        {
          "output_type": "execute_result",
          "data": {
            "text/plain": [
              "<tensorflow.python.keras.callbacks.History at 0x7fe728badbd0>"
            ]
          },
          "metadata": {
            "tags": []
          },
          "execution_count": 13
        }
      ]
    },
    {
      "cell_type": "markdown",
      "metadata": {
        "id": "0H0zKKNEBLD5"
      },
      "source": [
        "### Predicting the results of the Test set"
      ]
    },
    {
      "cell_type": "code",
      "metadata": {
        "id": "IA0yApEmBG1X",
        "colab": {
          "base_uri": "https://localhost:8080/"
        },
        "outputId": "981e87fd-4289-4787-95bf-10f8ca62cfd8"
      },
      "source": [
        "y_pred = ann.predict(X_test)\n",
        "print(f'y_pred has {y_pred.shape[0]} elements.')\n",
        "print(y_pred[:5])"
      ],
      "execution_count": 14,
      "outputs": [
        {
          "output_type": "stream",
          "text": [
            "y_pred has 1914 elements.\n",
            "[[433.23196]\n",
            " [460.95593]\n",
            " [466.39465]\n",
            " [446.89423]\n",
            " [456.96616]]\n"
          ],
          "name": "stdout"
        }
      ]
    },
    {
      "cell_type": "markdown",
      "metadata": {
        "id": "BxfZB6CGQw2V"
      },
      "source": [
        "Compare predicted results with the real results:\n",
        "- y_test: vector of real results (ground truth)\n",
        "- y_pred: vector of prediction"
      ]
    },
    {
      "cell_type": "code",
      "metadata": {
        "colab": {
          "base_uri": "https://localhost:8080/"
        },
        "id": "H1fHDmMUQbOd",
        "outputId": "1a749cd9-d374-4ff2-eefc-88ed42dd9af1"
      },
      "source": [
        "# printing options for numpy objects\n",
        "np.set_printoptions(precision=2)\n",
        "\n",
        "# convert the horizontal vectors to vertical, with \"reshape\", and then concatenate them on the vertical axis.\n",
        "print(np.concatenate((y_pred.reshape(len(y_pred),1), y_test.reshape(len(y_test),1)),1))"
      ],
      "execution_count": 15,
      "outputs": [
        {
          "output_type": "stream",
          "text": [
            "[[433.23 431.23]\n",
            " [460.96 460.01]\n",
            " [466.39 461.14]\n",
            " ...\n",
            " [473.04 473.26]\n",
            " [439.64 438.  ]\n",
            " [458.42 463.28]]\n"
          ],
          "name": "stdout"
        }
      ]
    }
  ]
}